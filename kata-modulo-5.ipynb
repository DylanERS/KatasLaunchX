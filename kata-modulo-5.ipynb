{
 "cells": [
  {
   "cell_type": "code",
   "execution_count": 1,
   "metadata": {},
   "outputs": [
    {
     "name": "stdout",
     "output_type": "stream",
     "text": [
      "628949330\n",
      "390577533.93\n"
     ]
    }
   ],
   "source": [
    "Tierra = 149597870\n",
    "Jupiter = 778547200\n",
    "\n",
    "distancia_km = Jupiter - Tierra\n",
    "distancia_millas = distancia_km * 0.621\n",
    "print(distancia_km)\n",
    "print(distancia_millas)"
   ]
  },
  {
   "cell_type": "code",
   "execution_count": 4,
   "metadata": {},
   "outputs": [
    {
     "name": "stdout",
     "output_type": "stream",
     "text": [
      "50300000\n",
      "31236300.0\n"
     ]
    }
   ],
   "source": [
    "planeta_1 = input(\"Ingresa la distancia con el sol\")\n",
    "planeta_2 = input(\"Ingresa la distancia con el sol\")\n",
    "\n",
    "planeta_1_numero = int(planeta_1)\n",
    "planeta_2_numero = int(planeta_2)\n",
    "\n",
    "distancia = planeta_1_numero - planeta_2_numero\n",
    "distancia_absolulta = abs(distancia)\n",
    "distancia_millas = distancia * 0.621\n",
    "distancia_millas_absoluta = abs(distancia_millas)\n",
    "\n",
    "print(distancia_absolulta)\n",
    "print(distancia_millas_absoluta)"
   ]
  }
 ],
 "metadata": {
  "interpreter": {
   "hash": "8c531bcfcb6e408b14c9f8aff8cb518f6c2c6cfbb6bbec98d36263e6de29481f"
  },
  "kernelspec": {
   "display_name": "Python 3.10.2 64-bit",
   "language": "python",
   "name": "python3"
  },
  "language_info": {
   "codemirror_mode": {
    "name": "ipython",
    "version": 3
   },
   "file_extension": ".py",
   "mimetype": "text/x-python",
   "name": "python",
   "nbconvert_exporter": "python",
   "pygments_lexer": "ipython3",
   "version": "3.10.2"
  },
  "orig_nbformat": 4
 },
 "nbformat": 4,
 "nbformat_minor": 2
}
